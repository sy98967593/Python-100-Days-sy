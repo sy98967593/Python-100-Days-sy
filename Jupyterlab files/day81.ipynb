{
 "cells": [
  {
   "cell_type": "code",
   "execution_count": 4,
   "metadata": {},
   "outputs": [],
   "source": [
    "import scipy.stats as stats"
   ]
  },
  {
   "cell_type": "code",
   "execution_count": 5,
   "metadata": {},
   "outputs": [],
   "source": [
    "# 每月收入\n",
    "X = [9558, 8835, 9313, 14990, 5564, 11227, 11806, 10242, 11999, 11630,\n",
    "     6906, 13850, 7483, 8090, 9465, 9938, 11414, 3200, 10731, 19880,\n",
    "     15500, 10343, 11100, 10020, 7587, 6120, 5386, 12038, 13360, 10885,\n",
    "     17010, 9247, 13050, 6691, 7890, 9070, 16899, 8975, 8650, 9100,\n",
    "     10990, 9184, 4811, 14890, 11313, 12547, 8300, 12400, 9853, 12890]\n",
    "# 每月网购支出\n",
    "Y = [3171, 2183, 3091, 5928, 182, 4373, 5297, 3788, 5282, 4166,\n",
    "     1674, 5045, 1617, 1707, 3096, 3407, 4674, 361, 3599, 6584,\n",
    "     6356, 3859, 4519, 3352, 1634, 1032, 1106, 4951, 5309, 3800,\n",
    "     5672, 2901, 5439, 1478, 1424, 2777, 5682, 2554, 2117, 2845,\n",
    "     3867, 2962,  882, 5435, 4174, 4948, 2376, 4987, 3329, 5002]"
   ]
  },
  {
   "cell_type": "code",
   "execution_count": 6,
   "metadata": {},
   "outputs": [
    {
     "data": {
      "text/plain": [
       "array([[1.        , 0.94862936],\n",
       "       [0.94862936, 1.        ]])"
      ]
     },
     "execution_count": 6,
     "metadata": {},
     "output_type": "execute_result"
    }
   ],
   "source": [
    "import numpy as np\n",
    "\n",
    "np.corrcoef(X, Y)"
   ]
  },
  {
   "cell_type": "code",
   "execution_count": 7,
   "metadata": {},
   "outputs": [
    {
     "data": {
      "text/plain": [
       "PearsonRResult(statistic=np.float64(0.9486293572644151), pvalue=np.float64(1.2349851929269867e-25))"
      ]
     },
     "execution_count": 7,
     "metadata": {},
     "output_type": "execute_result"
    }
   ],
   "source": [
    "stats.pearsonr(X, Y)"
   ]
  },
  {
   "cell_type": "code",
   "execution_count": 8,
   "metadata": {},
   "outputs": [],
   "source": [
    "import statistics\n",
    "\n",
    "\n",
    "def get_loss(X, Y, a, b):\n",
    "    \"\"\"损失函数\n",
    "    :param X: 回归模型的自变量\n",
    "    :param Y: 回归模型的因变量\n",
    "    :param a: 回归模型的斜率\n",
    "    :param b: 回归模型的截距\n",
    "    :return: MSE（均方误差）\n",
    "    \"\"\"\n",
    "    Y_hat = [a * x + b for x in X]\n",
    "    return statistics.mean([(y - y_hat) ** 2 for y, y_hat in zip(Y, Y_hat)])"
   ]
  },
  {
   "cell_type": "code",
   "execution_count": 9,
   "metadata": {},
   "outputs": [
    {
     "name": "stdout",
     "output_type": "stream",
     "text": [
      "MSE = 270713.86771384714\n",
      "a = 0.48090681922300105, b = -1507.6670864774483\n"
     ]
    }
   ],
   "source": [
    "import random\n",
    "\n",
    "# 先将最小损失定义为一个很大的值\n",
    "min_loss, a, b = 1e12, 0, 0\n",
    "\n",
    "for _ in range(100000):\n",
    "    # 通过产生随机数的方式获得斜率和截距\n",
    "    _a, _b = random.random(), random.random() * 4000 - 2000\n",
    "    # 带入损失函数计算回归模型的MSE\n",
    "    curr_loss = get_loss(X, Y, _a, _b)\n",
    "    if curr_loss < min_loss:\n",
    "        # 找到更小的MSE就记为最小损失\n",
    "        min_loss = curr_loss\n",
    "        # 记录下当前最小损失对应的a和b\n",
    "        a, b = _a, _b\n",
    "\n",
    "print(f'MSE = {min_loss}')\n",
    "print(f'{a = }, {b = }')"
   ]
  }
 ],
 "metadata": {
  "kernelspec": {
   "display_name": "d2lv1",
   "language": "python",
   "name": "python3"
  },
  "language_info": {
   "codemirror_mode": {
    "name": "ipython",
    "version": 3
   },
   "file_extension": ".py",
   "mimetype": "text/x-python",
   "name": "python",
   "nbconvert_exporter": "python",
   "pygments_lexer": "ipython3",
   "version": "3.12.8"
  }
 },
 "nbformat": 4,
 "nbformat_minor": 2
}

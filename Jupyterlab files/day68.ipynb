{
 "cells": [
  {
   "cell_type": "markdown",
   "id": "d06069fb-541f-44c4-be27-e27dd559eb8c",
   "metadata": {
    "jp-MarkdownHeadingCollapsed": true,
    "tags": []
   },
   "source": [
    "## 一 创建数组对象"
   ]
  },
  {
   "cell_type": "code",
   "execution_count": 3,
   "id": "8e5c6a14-a104-410e-a9f1-e23bd196a930",
   "metadata": {
    "tags": []
   },
   "outputs": [],
   "source": [
    "import numpy as np\n",
    "import pandas as pd\n",
    "import matplotlib.pyplot as plt"
   ]
  },
  {
   "cell_type": "markdown",
   "id": "9b3a1d1b-dcbd-4b2f-acfa-855e5ee7b25a",
   "metadata": {},
   "source": [
    "方法一 使用array函数，通过list创建数组对象"
   ]
  },
  {
   "cell_type": "code",
   "execution_count": 2,
   "id": "cef1f767-0cdf-4212-badf-186e527ddc24",
   "metadata": {
    "tags": []
   },
   "outputs": [
    {
     "data": {
      "text/plain": [
       "array([1, 2, 3, 4, 5])"
      ]
     },
     "execution_count": 2,
     "metadata": {},
     "output_type": "execute_result"
    }
   ],
   "source": [
    "array1 = np.array([1,2,3,4,5])\n",
    "array1"
   ]
  },
  {
   "cell_type": "code",
   "execution_count": 5,
   "id": "77a0966c-c84e-401d-a011-b1d1105d8fc2",
   "metadata": {
    "tags": []
   },
   "outputs": [
    {
     "name": "stdout",
     "output_type": "stream",
     "text": [
      "[[1 2 3]\n",
      " [4 5 6]]\n"
     ]
    }
   ],
   "source": [
    "array2=np.array([[1,2,3],[4,5,6]])\n",
    "array2\n",
    "print(array2)"
   ]
  },
  {
   "cell_type": "markdown",
   "id": "b08d9450-27db-42ed-9899-fe6014701bda",
   "metadata": {},
   "source": [
    "方法二 使用arange函数，指定取值范围和跨度创建数组对象"
   ]
  },
  {
   "cell_type": "code",
   "execution_count": 4,
   "id": "c4d3bdc3-eb6a-45ac-b957-adedc4c51469",
   "metadata": {
    "tags": []
   },
   "outputs": [
    {
     "name": "stdout",
     "output_type": "stream",
     "text": [
      "[ 0  2  4  6  8 10 12 14 16 18]\n"
     ]
    }
   ],
   "source": [
    "array3 = np.arange(0,20,2)\n",
    "array3\n",
    "print(array3)"
   ]
  },
  {
   "cell_type": "code",
   "execution_count": 1,
   "id": "48150b34-4aca-4ad5-8624-fe1a5c94128f",
   "metadata": {},
   "outputs": [
    {
     "data": {
      "text/plain": [
       "'D:\\\\Yan Shi Data\\\\【1】先进技术部\\\\【3】研发项目\\\\大数据智能化\\\\python学习\\\\Python-100-Days-sy\\\\Jupyterlab files'"
      ]
     },
     "execution_count": 1,
     "metadata": {},
     "output_type": "execute_result"
    }
   ],
   "source": [
    "%pwd"
   ]
  },
  {
   "cell_type": "markdown",
   "id": "8076cfcb-fc78-4402-a2c8-897cc49b285f",
   "metadata": {},
   "source": [
    "方法七 使用numpy.random模块的函数生成随机数创建数组对象，产生[1，100)范围的随机整数构成三位数组"
   ]
  },
  {
   "cell_type": "code",
   "execution_count": 8,
   "id": "59a1bdc8-383e-46d9-90ea-85d060b9cbc0",
   "metadata": {
    "tags": []
   },
   "outputs": [
    {
     "name": "stdout",
     "output_type": "stream",
     "text": [
      "[[[90  3 14 82 23]\n",
      "  [94 85 39 49 45]\n",
      "  [ 4 80 52 85  8]\n",
      "  [15 11  7 36 53]]\n",
      "\n",
      " [[34 82 59 35 84]\n",
      "  [39 81  2 33 28]\n",
      "  [16 90 44 52 17]\n",
      "  [95 17 70 25 64]]\n",
      "\n",
      " [[35 66 37 26 17]\n",
      "  [71 86 17 25 12]\n",
      "  [88 51  4 52 76]\n",
      "  [18 36 15 33 36]]]\n"
     ]
    }
   ],
   "source": [
    "array12=np.random.randint(1,100,(3,4,5))\n",
    "print(array12)\n"
   ]
  },
  {
   "cell_type": "markdown",
   "id": "a65deff3-33f6-403e-a072-bd72bbeb1dd8",
   "metadata": {},
   "source": [
    "方法十 读取图片获取对应的三位数组"
   ]
  },
  {
   "cell_type": "code",
   "execution_count": 12,
   "id": "331ed72b-8a4d-4109-b5a5-ef0f554d53c5",
   "metadata": {
    "tags": []
   },
   "outputs": [
    {
     "name": "stdout",
     "output_type": "stream",
     "text": [
      "[[[ 36  33  28]\n",
      "  [ 36  33  28]\n",
      "  [ 36  33  28]\n",
      "  ...\n",
      "  [ 32  31  29]\n",
      "  [ 32  31  27]\n",
      "  [ 31  32  26]]\n",
      "\n",
      " [[ 37  34  29]\n",
      "  [ 38  35  30]\n",
      "  [ 38  35  30]\n",
      "  ...\n",
      "  [ 31  30  28]\n",
      "  [ 31  30  26]\n",
      "  [ 30  31  25]]\n",
      "\n",
      " [[ 38  35  30]\n",
      "  [ 38  35  30]\n",
      "  [ 38  35  30]\n",
      "  ...\n",
      "  [ 30  29  27]\n",
      "  [ 30  29  25]\n",
      "  [ 29  30  25]]\n",
      "\n",
      " ...\n",
      "\n",
      " [[239 178 123]\n",
      "  [237 176 121]\n",
      "  [235 174 119]\n",
      "  ...\n",
      "  [ 78  68  56]\n",
      "  [ 75  67  54]\n",
      "  [ 73  65  52]]\n",
      "\n",
      " [[238 177 120]\n",
      "  [236 175 118]\n",
      "  [234 173 116]\n",
      "  ...\n",
      "  [ 82  70  58]\n",
      "  [ 78  68  56]\n",
      "  [ 75  66  51]]\n",
      "\n",
      " [[238 176 119]\n",
      "  [236 175 118]\n",
      "  [234 173 116]\n",
      "  ...\n",
      "  [ 84  70  61]\n",
      "  [ 81  69  57]\n",
      "  [ 79  67  53]]]\n"
     ]
    }
   ],
   "source": [
    "array16=plt.imread(r'D:\\Yan Shi Data\\【1】先进技术部\\【3】研发项目\\大数据智能化\\python学习\\Python-100-Days-sy\\Day01-15\\code\\Day15\\res\\guido.jpg')\n",
    "print(array16)"
   ]
  },
  {
   "cell_type": "markdown",
   "id": "4953cc4b-d081-4299-90e5-0069fa8f4e85",
   "metadata": {
    "jp-MarkdownHeadingCollapsed": true,
    "tags": []
   },
   "source": [
    "## 二 数组对象的属性\n",
    "* size属性：获取数组元素的个数\n",
    "* shape属性：获取数组的形状"
   ]
  },
  {
   "cell_type": "code",
   "execution_count": 13,
   "id": "18572adb-f90b-407b-a1a2-e35fa5700517",
   "metadata": {
    "tags": []
   },
   "outputs": [
    {
     "name": "stdout",
     "output_type": "stream",
     "text": [
      "1125000\n",
      "50\n",
      "12\n",
      "(750, 500, 3)\n",
      "(50,)\n",
      "(3, 4)\n"
     ]
    }
   ],
   "source": [
    "array17 = np.arange(1, 100, 2)\n",
    "array18 = np.random.rand(3, 4)\n",
    "print(array16.size)\n",
    "print(array17.size)\n",
    "print(array18.size)\n",
    "print(array16.shape)\n",
    "print(array17.shape)\n",
    "print(array18.shape)"
   ]
  },
  {
   "cell_type": "markdown",
   "id": "ddebf5e9-ed94-4fa4-81b8-81dbebdec603",
   "metadata": {
    "tags": []
   },
   "source": [
    "* ndim属性：获取数组的维度"
   ]
  },
  {
   "cell_type": "code",
   "execution_count": 15,
   "id": "ca6f9e84-6d61-452c-acb1-424afbcd734f",
   "metadata": {
    "tags": []
   },
   "outputs": [
    {
     "name": "stdout",
     "output_type": "stream",
     "text": [
      "3\n",
      "1\n",
      "2\n"
     ]
    }
   ],
   "source": [
    "print(array16.ndim)\n",
    "print(array17.ndim)\n",
    "print(array18.ndim)"
   ]
  },
  {
   "cell_type": "markdown",
   "id": "4e0fadc0-9661-4c63-a207-d0ba55f8664f",
   "metadata": {},
   "source": [
    "## 三数组的索引运算\n",
    "Numpy的ndarray对象可以进行索引和切片操作，通过索引可以获取或修改数组中的元素，通过切片操作可以取出数组的一部分，切片操作也成为切片索引"
   ]
  },
  {
   "cell_type": "code",
   "execution_count": null,
   "id": "c9e45863-f2fb-4e62-87f7-dc0aa260f969",
   "metadata": {},
   "outputs": [],
   "source": []
  }
 ],
 "metadata": {
  "kernelspec": {
   "display_name": "Python (d2lv1)",
   "language": "python",
   "name": "d2lv1"
  },
  "language_info": {
   "codemirror_mode": {
    "name": "ipython",
    "version": 3
   },
   "file_extension": ".py",
   "mimetype": "text/x-python",
   "name": "python",
   "nbconvert_exporter": "python",
   "pygments_lexer": "ipython3",
   "version": "3.9.17"
  }
 },
 "nbformat": 4,
 "nbformat_minor": 5
}
